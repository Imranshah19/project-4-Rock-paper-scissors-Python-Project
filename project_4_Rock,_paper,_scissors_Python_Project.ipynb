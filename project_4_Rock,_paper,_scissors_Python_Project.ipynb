{
  "nbformat": 4,
  "nbformat_minor": 0,
  "metadata": {
    "colab": {
      "provenance": [],
      "authorship_tag": "ABX9TyO6u2XS3VHysZ171pc9vXDx",
      "include_colab_link": true
    },
    "kernelspec": {
      "name": "python3",
      "display_name": "Python 3"
    },
    "language_info": {
      "name": "python"
    }
  },
  "cells": [
    {
      "cell_type": "markdown",
      "metadata": {
        "id": "view-in-github",
        "colab_type": "text"
      },
      "source": [
        "<a href=\"https://colab.research.google.com/github/Imranshah19/project-4-Rock-paper-scissors-Python-Project/blob/main/project_4_Rock%2C_paper%2C_scissors_Python_Project.ipynb\" target=\"_parent\"><img src=\"https://colab.research.google.com/assets/colab-badge.svg\" alt=\"Open In Colab\"/></a>"
      ]
    },
    {
      "cell_type": "code",
      "execution_count": null,
      "metadata": {
        "id": "-5Pi0QpzVeWm"
      },
      "outputs": [],
      "source": [
        "import random\n",
        "\n",
        "def get_computer_choice():\n",
        "    return random.choice([\"rock\", \"paper\", \"scissors\"])\n",
        "\n",
        "def get_winner(user_choice, computer_choice):\n",
        "    if user_choice == computer_choice:\n",
        "        return \"draw\"\n",
        "    elif (user_choice == \"rock\" and computer_choice == \"scissors\") or \\\n",
        "         (user_choice == \"paper\" and computer_choice == \"rock\") or \\\n",
        "         (user_choice == \"scissors\" and computer_choice == \"paper\"):\n",
        "        return \"user\"\n",
        "    else:\n",
        "        return \"computer\"\n",
        "\n",
        "def play_game():\n",
        "    print(\"🎮 Welcome to Rock, Paper, Scissors! 🎮\")\n",
        "\n",
        "    user_score = 0\n",
        "    computer_score = 0\n",
        "\n",
        "    while True:\n",
        "        user_choice = input(\"\\nEnter Rock, Paper, or Scissors (or 'quit' to exit): \").lower()\n",
        "\n",
        "        if user_choice == \"quit\":\n",
        "            print(\"\\n🏆 Final Score: User =\", user_score, \"| Computer =\", computer_score)\n",
        "            print(\"Thanks for playing! 👋\")\n",
        "            break\n",
        "\n",
        "        if user_choice not in [\"rock\", \"paper\", \"scissors\"]:\n",
        "            print(\"❌ Invalid choice! Please enter Rock, Paper, or Scissors.\")\n",
        "            continue\n",
        "\n",
        "        computer_choice = get_computer_choice()\n",
        "        print(f\"🤖 Computer chose: {computer_choice.capitalize()}\")\n",
        "\n",
        "        winner = get_winner(user_choice, computer_choice)\n",
        "\n",
        "        if winner == \"draw\":\n",
        "            print(\"➖ It's a draw!\")\n",
        "        elif winner == \"user\":\n",
        "            print(\"✅ You win this round! 🎉\")\n",
        "            user_score += 1\n",
        "        else:\n",
        "            print(\"❌ Computer wins this round!\")\n",
        "            computer_score += 1\n",
        "\n",
        "        print(f\"📊 Score: User {user_score} | Computer {computer_score}\")\n",
        "\n",
        "# Run the game\n",
        "play_game()\n"
      ]
    }
  ]
}